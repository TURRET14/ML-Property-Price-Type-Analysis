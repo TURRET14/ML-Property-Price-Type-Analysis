{
 "cells": [
  {
   "cell_type": "markdown",
   "id": "8514b4a6-a96b-4376-9f26-fdaa5fed5b46",
   "metadata": {},
   "source": [
    "<H1>Предсказание Стоимости Недвижимости. Предсказание Типа Недвижимости (Новостройка, Вторичка).</H1>"
   ]
  },
  {
   "cell_type": "markdown",
   "id": "de68b74a-5eff-47e0-b3dc-58cf6fcf9bb8",
   "metadata": {},
   "source": [
    "<H2>Библиотеки.</H2>"
   ]
  },
  {
   "cell_type": "code",
   "execution_count": 18,
   "id": "e17ccdad-3a2a-44a5-9581-366ac90fa7b7",
   "metadata": {},
   "outputs": [],
   "source": [
    "import pandas as pd\n",
    "import numpy as np\n",
    "import sklearn\n",
    "import sklearn.preprocessing\n",
    "import sklearn.metrics\n",
    "import sklearn.model_selection\n",
    "import sklearn.ensemble\n",
    "from tensorflow import keras\n",
    "import joblib"
   ]
  },
  {
   "cell_type": "markdown",
   "id": "60830d83-c83d-48f6-bdae-4ab05985d4b7",
   "metadata": {},
   "source": [
    "<H2>Файл Property.csv</H2>"
   ]
  },
  {
   "cell_type": "code",
   "execution_count": 19,
   "id": "d96855db-d29b-4bde-bb08-38654d6114d5",
   "metadata": {},
   "outputs": [
    {
     "data": {
      "text/html": [
       "<div>\n",
       "<style scoped>\n",
       "    .dataframe tbody tr th:only-of-type {\n",
       "        vertical-align: middle;\n",
       "    }\n",
       "\n",
       "    .dataframe tbody tr th {\n",
       "        vertical-align: top;\n",
       "    }\n",
       "\n",
       "    .dataframe thead th {\n",
       "        text-align: right;\n",
       "    }\n",
       "</style>\n",
       "<table border=\"1\" class=\"dataframe\">\n",
       "  <thead>\n",
       "    <tr style=\"text-align: right;\">\n",
       "      <th></th>\n",
       "      <th>Unnamed: 0</th>\n",
       "      <th>Price</th>\n",
       "      <th>Apartment Type</th>\n",
       "      <th>Metro Station</th>\n",
       "      <th>Minutes To Metro</th>\n",
       "      <th>Region</th>\n",
       "      <th>Number Of Rooms</th>\n",
       "      <th>Area</th>\n",
       "      <th>Living Area</th>\n",
       "      <th>Kitchen Area</th>\n",
       "      <th>Floor</th>\n",
       "      <th>Number Of Floors</th>\n",
       "      <th>Renovation</th>\n",
       "    </tr>\n",
       "  </thead>\n",
       "  <tbody>\n",
       "    <tr>\n",
       "      <th>0</th>\n",
       "      <td>0</td>\n",
       "      <td>6300000.0</td>\n",
       "      <td>Вторичка</td>\n",
       "      <td>Опалиха</td>\n",
       "      <td>6.0</td>\n",
       "      <td>Московская Область</td>\n",
       "      <td>1.0</td>\n",
       "      <td>30.6</td>\n",
       "      <td>11.1</td>\n",
       "      <td>8.5</td>\n",
       "      <td>25.0</td>\n",
       "      <td>25</td>\n",
       "      <td>Косметический</td>\n",
       "    </tr>\n",
       "    <tr>\n",
       "      <th>1</th>\n",
       "      <td>1</td>\n",
       "      <td>9000000.0</td>\n",
       "      <td>Вторичка</td>\n",
       "      <td>Павшино</td>\n",
       "      <td>2.0</td>\n",
       "      <td>Московская Область</td>\n",
       "      <td>1.0</td>\n",
       "      <td>49.2</td>\n",
       "      <td>20.0</td>\n",
       "      <td>10.0</td>\n",
       "      <td>6.0</td>\n",
       "      <td>15</td>\n",
       "      <td>В Европейском Стиле</td>\n",
       "    </tr>\n",
       "    <tr>\n",
       "      <th>2</th>\n",
       "      <td>2</td>\n",
       "      <td>11090000.0</td>\n",
       "      <td>Вторичка</td>\n",
       "      <td>Мякинино</td>\n",
       "      <td>14.0</td>\n",
       "      <td>Московская Область</td>\n",
       "      <td>1.0</td>\n",
       "      <td>44.7</td>\n",
       "      <td>16.2</td>\n",
       "      <td>13.1</td>\n",
       "      <td>10.0</td>\n",
       "      <td>25</td>\n",
       "      <td>Косметический</td>\n",
       "    </tr>\n",
       "    <tr>\n",
       "      <th>3</th>\n",
       "      <td>3</td>\n",
       "      <td>8300000.0</td>\n",
       "      <td>Вторичка</td>\n",
       "      <td>Строгино</td>\n",
       "      <td>8.0</td>\n",
       "      <td>Московская Область</td>\n",
       "      <td>1.0</td>\n",
       "      <td>35.1</td>\n",
       "      <td>16.0</td>\n",
       "      <td>11.0</td>\n",
       "      <td>12.0</td>\n",
       "      <td>33</td>\n",
       "      <td>В Европейском Стиле</td>\n",
       "    </tr>\n",
       "    <tr>\n",
       "      <th>4</th>\n",
       "      <td>4</td>\n",
       "      <td>6450000.0</td>\n",
       "      <td>Вторичка</td>\n",
       "      <td>Опалиха</td>\n",
       "      <td>6.0</td>\n",
       "      <td>Московская Область</td>\n",
       "      <td>1.0</td>\n",
       "      <td>37.7</td>\n",
       "      <td>15.2</td>\n",
       "      <td>4.0</td>\n",
       "      <td>5.0</td>\n",
       "      <td>5</td>\n",
       "      <td>Без Ремонта</td>\n",
       "    </tr>\n",
       "  </tbody>\n",
       "</table>\n",
       "</div>"
      ],
      "text/plain": [
       "   Unnamed: 0       Price Apartment Type Metro Station  Minutes To Metro  \\\n",
       "0           0   6300000.0       Вторичка       Опалиха               6.0   \n",
       "1           1   9000000.0       Вторичка       Павшино               2.0   \n",
       "2           2  11090000.0       Вторичка      Мякинино              14.0   \n",
       "3           3   8300000.0       Вторичка      Строгино               8.0   \n",
       "4           4   6450000.0       Вторичка       Опалиха               6.0   \n",
       "\n",
       "               Region  Number Of Rooms  Area  Living Area  Kitchen Area  \\\n",
       "0  Московская Область              1.0  30.6         11.1           8.5   \n",
       "1  Московская Область              1.0  49.2         20.0          10.0   \n",
       "2  Московская Область              1.0  44.7         16.2          13.1   \n",
       "3  Московская Область              1.0  35.1         16.0          11.0   \n",
       "4  Московская Область              1.0  37.7         15.2           4.0   \n",
       "\n",
       "   Floor  Number Of Floors           Renovation  \n",
       "0   25.0                25        Косметический  \n",
       "1    6.0                15  В Европейском Стиле  \n",
       "2   10.0                25        Косметический  \n",
       "3   12.0                33  В Европейском Стиле  \n",
       "4    5.0                 5          Без Ремонта  "
      ]
     },
     "metadata": {},
     "output_type": "display_data"
    }
   ],
   "source": [
    "FilePath = 'Property.csv'\n",
    "Data = pd.read_csv(FilePath)\n",
    "Data = Data.dropna()\n",
    "Data = Data.drop_duplicates()\n",
    "display(Data.head())"
   ]
  },
  {
   "cell_type": "markdown",
   "id": "3ff3679a-87ae-436e-9634-94604c3c14d6",
   "metadata": {},
   "source": [
    "<H2>Обработка Данных Таблицы. Кодирование Категориальных Признаков (String -> Int).</H2>"
   ]
  },
  {
   "cell_type": "code",
   "execution_count": 20,
   "id": "2da11a23-0e32-42c4-9b99-2f42d752e058",
   "metadata": {},
   "outputs": [
    {
     "data": {
      "text/html": [
       "<div>\n",
       "<style scoped>\n",
       "    .dataframe tbody tr th:only-of-type {\n",
       "        vertical-align: middle;\n",
       "    }\n",
       "\n",
       "    .dataframe tbody tr th {\n",
       "        vertical-align: top;\n",
       "    }\n",
       "\n",
       "    .dataframe thead th {\n",
       "        text-align: right;\n",
       "    }\n",
       "</style>\n",
       "<table border=\"1\" class=\"dataframe\">\n",
       "  <thead>\n",
       "    <tr style=\"text-align: right;\">\n",
       "      <th></th>\n",
       "      <th>Unnamed: 0</th>\n",
       "      <th>Price</th>\n",
       "      <th>Apartment Type</th>\n",
       "      <th>Metro Station</th>\n",
       "      <th>Minutes To Metro</th>\n",
       "      <th>Region</th>\n",
       "      <th>Number Of Rooms</th>\n",
       "      <th>Area</th>\n",
       "      <th>Living Area</th>\n",
       "      <th>Kitchen Area</th>\n",
       "      <th>Floor</th>\n",
       "      <th>Number Of Floors</th>\n",
       "      <th>Renovation</th>\n",
       "      <th>Apartment Type Label</th>\n",
       "      <th>Metro Station Label</th>\n",
       "      <th>Region Label</th>\n",
       "      <th>Renovation Label</th>\n",
       "    </tr>\n",
       "  </thead>\n",
       "  <tbody>\n",
       "    <tr>\n",
       "      <th>0</th>\n",
       "      <td>0</td>\n",
       "      <td>6300000</td>\n",
       "      <td>0</td>\n",
       "      <td>176</td>\n",
       "      <td>6</td>\n",
       "      <td>1</td>\n",
       "      <td>1</td>\n",
       "      <td>30</td>\n",
       "      <td>11</td>\n",
       "      <td>8</td>\n",
       "      <td>25</td>\n",
       "      <td>25</td>\n",
       "      <td>3</td>\n",
       "      <td>Вторичка</td>\n",
       "      <td>Опалиха</td>\n",
       "      <td>Московская Область</td>\n",
       "      <td>Косметический</td>\n",
       "    </tr>\n",
       "    <tr>\n",
       "      <th>1</th>\n",
       "      <td>1</td>\n",
       "      <td>9000000</td>\n",
       "      <td>0</td>\n",
       "      <td>183</td>\n",
       "      <td>2</td>\n",
       "      <td>1</td>\n",
       "      <td>1</td>\n",
       "      <td>49</td>\n",
       "      <td>20</td>\n",
       "      <td>10</td>\n",
       "      <td>6</td>\n",
       "      <td>15</td>\n",
       "      <td>1</td>\n",
       "      <td>Вторичка</td>\n",
       "      <td>Павшино</td>\n",
       "      <td>Московская Область</td>\n",
       "      <td>В Европейском Стиле</td>\n",
       "    </tr>\n",
       "    <tr>\n",
       "      <th>2</th>\n",
       "      <td>2</td>\n",
       "      <td>11090000</td>\n",
       "      <td>0</td>\n",
       "      <td>148</td>\n",
       "      <td>14</td>\n",
       "      <td>1</td>\n",
       "      <td>1</td>\n",
       "      <td>44</td>\n",
       "      <td>16</td>\n",
       "      <td>13</td>\n",
       "      <td>10</td>\n",
       "      <td>25</td>\n",
       "      <td>3</td>\n",
       "      <td>Вторичка</td>\n",
       "      <td>Мякинино</td>\n",
       "      <td>Московская Область</td>\n",
       "      <td>Косметический</td>\n",
       "    </tr>\n",
       "    <tr>\n",
       "      <th>3</th>\n",
       "      <td>3</td>\n",
       "      <td>8300000</td>\n",
       "      <td>0</td>\n",
       "      <td>251</td>\n",
       "      <td>8</td>\n",
       "      <td>1</td>\n",
       "      <td>1</td>\n",
       "      <td>35</td>\n",
       "      <td>16</td>\n",
       "      <td>11</td>\n",
       "      <td>12</td>\n",
       "      <td>33</td>\n",
       "      <td>1</td>\n",
       "      <td>Вторичка</td>\n",
       "      <td>Строгино</td>\n",
       "      <td>Московская Область</td>\n",
       "      <td>В Европейском Стиле</td>\n",
       "    </tr>\n",
       "    <tr>\n",
       "      <th>4</th>\n",
       "      <td>4</td>\n",
       "      <td>6450000</td>\n",
       "      <td>0</td>\n",
       "      <td>176</td>\n",
       "      <td>6</td>\n",
       "      <td>1</td>\n",
       "      <td>1</td>\n",
       "      <td>37</td>\n",
       "      <td>15</td>\n",
       "      <td>4</td>\n",
       "      <td>5</td>\n",
       "      <td>5</td>\n",
       "      <td>0</td>\n",
       "      <td>Вторичка</td>\n",
       "      <td>Опалиха</td>\n",
       "      <td>Московская Область</td>\n",
       "      <td>Без Ремонта</td>\n",
       "    </tr>\n",
       "  </tbody>\n",
       "</table>\n",
       "</div>"
      ],
      "text/plain": [
       "   Unnamed: 0     Price  Apartment Type  Metro Station  Minutes To Metro  \\\n",
       "0           0   6300000               0            176                 6   \n",
       "1           1   9000000               0            183                 2   \n",
       "2           2  11090000               0            148                14   \n",
       "3           3   8300000               0            251                 8   \n",
       "4           4   6450000               0            176                 6   \n",
       "\n",
       "   Region  Number Of Rooms  Area  Living Area  Kitchen Area  Floor  \\\n",
       "0       1                1    30           11             8     25   \n",
       "1       1                1    49           20            10      6   \n",
       "2       1                1    44           16            13     10   \n",
       "3       1                1    35           16            11     12   \n",
       "4       1                1    37           15             4      5   \n",
       "\n",
       "   Number Of Floors  Renovation Apartment Type Label Metro Station Label  \\\n",
       "0                25           3             Вторичка             Опалиха   \n",
       "1                15           1             Вторичка             Павшино   \n",
       "2                25           3             Вторичка            Мякинино   \n",
       "3                33           1             Вторичка            Строгино   \n",
       "4                 5           0             Вторичка             Опалиха   \n",
       "\n",
       "         Region Label     Renovation Label  \n",
       "0  Московская Область        Косметический  \n",
       "1  Московская Область  В Европейском Стиле  \n",
       "2  Московская Область        Косметический  \n",
       "3  Московская Область  В Европейском Стиле  \n",
       "4  Московская Область          Без Ремонта  "
      ]
     },
     "metadata": {},
     "output_type": "display_data"
    }
   ],
   "source": [
    "Features = [\"Apartment Type\", \"Metro Station\", \"Minutes To Metro\", \"Region\", \"Number Of Rooms\", \n",
    "            \"Area\", \"Living Area\", \"Kitchen Area\", \"Floor\", \"Number Of Floors\", \"Renovation\"]\n",
    "FeaturesFloat = [\"Minutes To Metro\", \"Number Of Rooms\", \"Area\", \"Living Area\", \"Kitchen Area\", \"Floor\"]\n",
    "Data[\"Price\"] = Data[\"Price\"].astype(int)\n",
    "Count = 0\n",
    "for Num in range(len(FeaturesFloat)):\n",
    "    Data[FeaturesFloat[Count]] = Data[FeaturesFloat[Count]].astype(int)\n",
    "    Count = Count + 1\n",
    "FeaturesString = [\"Apartment Type\", \"Metro Station\", \"Region\", \"Renovation\"]\n",
    "Count = 0\n",
    "for Num in range(len(FeaturesString)):\n",
    "    Encoder = sklearn.preprocessing.LabelEncoder()\n",
    "    Data[FeaturesString[Count] + \" Label\"] = Data[FeaturesString[Count]]\n",
    "    Data[FeaturesString[Count]] = Encoder.fit_transform(Data[FeaturesString[Count]])\n",
    "    Count = Count + 1\n",
    "display(Data.head())"
   ]
  },
  {
   "cell_type": "code",
   "execution_count": 21,
   "id": "e8ceefdf-03fd-4026-bd7f-bbc3c586e130",
   "metadata": {},
   "outputs": [],
   "source": [
    "Count = 0\n",
    "LabelValues = []\n",
    "for Num in range(len(FeaturesString)):\n",
    "    LabelValues.append(list(Data[FeaturesString[Count] + \" Label\"].unique()))\n",
    "    Count = Count + 1\n",
    "EncodedValues = []\n",
    "Count = 0\n",
    "for Num in range(len(FeaturesString)):\n",
    "    EncodedValues.append(list(Data[FeaturesString[Count]].unique()))\n",
    "    Count = Count + 1"
   ]
  },
  {
   "cell_type": "markdown",
   "id": "8488fc3e-0530-4bf9-83d1-272b7b476117",
   "metadata": {},
   "source": [
    "<H1>Создание Моделей Регрессии. Предсказание Стоимости Недвижимости.</H1>"
   ]
  },
  {
   "cell_type": "markdown",
   "id": "0468fef5-6c51-44f5-ae27-98c5b5fb6da7",
   "metadata": {},
   "source": [
    "<H2>Разделение Данных На Обучающую И Тестовую Выборку.</H2>"
   ]
  },
  {
   "cell_type": "code",
   "execution_count": 22,
   "id": "7b802b2c-40dd-41c2-adf7-0e6cfbc72ca9",
   "metadata": {},
   "outputs": [],
   "source": [
    "X = Data[Features]\n",
    "Y = Data[\"Price\"]\n",
    "X_Train, X_Test, Y_Train, Y_Test = sklearn.model_selection.train_test_split(X, Y)"
   ]
  },
  {
   "cell_type": "markdown",
   "id": "0ce22965-ec35-4194-a2de-2262f7bbe7fc",
   "metadata": {},
   "source": [
    "<H2>Обучение Модели Регрессии RandomForestClassifier Из Библиотеки Sklearn.Ensemble. Точность Модели.</H2>"
   ]
  },
  {
   "cell_type": "code",
   "execution_count": 23,
   "id": "88dafbba-6af7-4d89-a527-b268d0f0de6d",
   "metadata": {},
   "outputs": [
    {
     "name": "stdout",
     "output_type": "stream",
     "text": [
      "RandomForestRegressor R^2: 0.781152617610225\n",
      "RandomForestRegressor MAE: 8833715.985963615\n",
      "RandomForestRegressor MAPE: 0.15707421730166446\n"
     ]
    }
   ],
   "source": [
    "RF_Model = sklearn.ensemble.RandomForestRegressor(1000)\n",
    "RF_Model.fit(X_Train, Y_Train)\n",
    "RF_Y_Pred = RF_Model.predict(X_Test)\n",
    "RF_R2 = sklearn.metrics.r2_score(Y_Test, RF_Y_Pred)\n",
    "RF_MAE = sklearn.metrics.mean_absolute_error(Y_Test, RF_Y_Pred)\n",
    "RF_MAPE = sklearn.metrics.mean_absolute_percentage_error(Y_Test, RF_Y_Pred)\n",
    "print(\"RandomForestRegressor R^2:\", RF_R2)\n",
    "print(\"RandomForestRegressor MAE:\", RF_MAE)\n",
    "print(\"RandomForestRegressor MAPE:\", RF_MAPE)"
   ]
  },
  {
   "cell_type": "markdown",
   "id": "8e446a15-0b4a-409d-bea8-8e781fb9edf2",
   "metadata": {},
   "source": [
    "<H2>Создание Модели Регрессии Sequential Из Библиотеки Tensorflow Keras.</H2>"
   ]
  },
  {
   "cell_type": "code",
   "execution_count": 24,
   "id": "3560c317-178c-4a6a-aef7-650c828d8c47",
   "metadata": {},
   "outputs": [],
   "source": [
    "Seq_Model = keras.Sequential([\n",
    "    keras.layers.Input([11]),\n",
    "    keras.layers.Dense(512),\n",
    "    keras.layers.ReLU(),\n",
    "    keras.layers.Dense(256),\n",
    "    keras.layers.ReLU(),\n",
    "    keras.layers.Dense(128),\n",
    "    keras.layers.ReLU(),\n",
    "    keras.layers.Dense(64),\n",
    "    keras.layers.ReLU(),\n",
    "    keras.layers.Dense(32),\n",
    "    keras.layers.ReLU(),\n",
    "    keras.layers.Dense(1)\n",
    "])"
   ]
  },
  {
   "cell_type": "markdown",
   "id": "7e65d708-9976-4ed6-8315-7b8d9f9963ca",
   "metadata": {},
   "source": [
    "<H2>Обучение Модели. Точность Модели.</H2>"
   ]
  },
  {
   "cell_type": "code",
   "execution_count": 25,
   "id": "dc8a8e45-ab8d-4fc1-bddd-12d267b54bc9",
   "metadata": {},
   "outputs": [
    {
     "name": "stdout",
     "output_type": "stream",
     "text": [
      "Sequential R^2: 0.7288596630096436\n",
      "Sequential MAE: 11739149.409992944\n",
      "Sequential MAPE: 0.20121744976690278\n"
     ]
    }
   ],
   "source": [
    "Seq_Model.compile(keras.optimizers.Adam(), keras.losses.MAE, None, [keras.losses.MAE])\n",
    "Seq_Model.fit(X_Train, Y_Train, None, 200, 0)\n",
    "Seq_Y_Pred = Seq_Model.predict(X_Test, None, 0)\n",
    "Seq_R2 = sklearn.metrics.r2_score(Y_Test, Seq_Y_Pred)\n",
    "Seq_MAE = sklearn.metrics.mean_absolute_error(Y_Test, Seq_Y_Pred)\n",
    "Seq_MAPE = sklearn.metrics.mean_absolute_percentage_error(Y_Test, Seq_Y_Pred)\n",
    "print(\"Sequential R^2:\", Seq_R2)\n",
    "print(\"Sequential MAE:\", Seq_MAE)\n",
    "print(\"Sequential MAPE:\", Seq_MAPE)"
   ]
  },
  {
   "cell_type": "markdown",
   "id": "fdb5b84e-668e-4b78-ba17-e326642e5125",
   "metadata": {},
   "source": [
    "<H2>Выгрузка Моделей В Файлы.</H2>"
   ]
  },
  {
   "cell_type": "code",
   "execution_count": null,
   "id": "ecfd7768-2d6d-480b-89ff-750754a48645",
   "metadata": {},
   "outputs": [],
   "source": [
    "joblib.dump(RF_Model, 'RFModel.pkl')\n",
    "Seq_Model.save('KerasSequential.keras')"
   ]
  },
  {
   "cell_type": "markdown",
   "id": "32b5475e-a11c-4771-b2ea-00d797b6ce69",
   "metadata": {},
   "source": [
    "<H2>Загрузка Моделей Из Файлов.</H2>"
   ]
  },
  {
   "cell_type": "code",
   "execution_count": null,
   "id": "6fa065d8-5ec4-45e0-8818-4ec97af741bf",
   "metadata": {},
   "outputs": [],
   "source": [
    "RF_Model = joblib.load('RFModel.pkl')\n",
    "Seq_Model = keras.models.load_model('KerasSequential.keras')"
   ]
  },
  {
   "cell_type": "markdown",
   "id": "95242c1a-1474-41de-a68b-64fc1f37838d",
   "metadata": {},
   "source": [
    "<H2>Ввод Пользовательских Данных.</H2>"
   ]
  },
  {
   "cell_type": "code",
   "execution_count": null,
   "id": "d95b9e6d-6b12-4300-a8a6-a20574344adc",
   "metadata": {},
   "outputs": [],
   "source": [
    "Count = 0\n",
    "print(\"Тип. Доступные Значения:\", LabelValues[0])\n",
    "ApartmentTypeLabel = input(\"Введите Тип:\")\n",
    "ApartmentType = EncodedValues[Count][LabelValues[Count].index(ApartmentTypeLabel)]\n",
    "Count = Count + 1\n",
    "print(\"Станция Метро. Доступные Значения:\", LabelValues[1])\n",
    "MetroStationLabel = input(\"Введите Название:\")\n",
    "MetroStation = EncodedValues[Count][LabelValues[Count].index(MetroStationLabel)]\n",
    "Count = Count + 1\n",
    "print(\"Минут До Метро.\")\n",
    "MinutesToMetro = int(input(\"Введите Число:\"))\n",
    "print(\"Регион. Доступные Значения:\", LabelValues[2])\n",
    "RegionLabel = input(\"Введите Регион:\")\n",
    "Region = EncodedValues[Count][LabelValues[Count].index(RegionLabel)]\n",
    "Count = Count + 1\n",
    "print(\"Количество Комнат.\")\n",
    "NumberOfRooms = int(input(\"Введите Число:\"))\n",
    "print(\"Квадратные Метры.\")\n",
    "Area = int(input(\"Введите Число:\"))\n",
    "print(\"Жилая Площадь.\")\n",
    "LivingArea = int(input(\"Введите Число:\"))\n",
    "print(\"Площадь Кухни.\")\n",
    "KitchenArea = int(input(\"Введите Число:\"))\n",
    "print(\"Этаж.\")\n",
    "Floor = int(input(\"Введите Число:\"))\n",
    "print(\"Количество Этажей.\")\n",
    "NumberOfFloors = int(input(\"Введите Число:\"))\n",
    "print(\"Тип Ремонта. Доступные Значения:\", LabelValues[3])\n",
    "RenovationLabel = input(\"Введите Тип Ремонта:\")\n",
    "Renovation = EncodedValues[Count][LabelValues[Count].index(RenovationLabel)]\n",
    "DataToPredict = pd.DataFrame({\"Apartment Type\": [ApartmentType], \"Metro Station\": [MetroStation], \"Minutes To Metro\": [MinutesToMetro], \"Region\": [Region],\n",
    "                              \"Number Of Rooms\": [NumberOfRooms], \"Area\": [Area], \"Living Area\": [LivingArea], \"Kitchen Area\": [KitchenArea], \"Floor\": [Floor], \n",
    "                              \"Number Of Floors\": [NumberOfFloors], \"Renovation\": [Renovation]})"
   ]
  },
  {
   "cell_type": "markdown",
   "id": "3a0e3052-3922-469e-bd52-7519d1308127",
   "metadata": {},
   "source": [
    "<H2>Предсказание Стоимости Недвижимости На Основании Введенных Данных Моделями RandomForestRegressor, Sequential.</H2>"
   ]
  },
  {
   "cell_type": "code",
   "execution_count": null,
   "id": "a8930d8a-92ca-4b80-b412-2cdcecaf8862",
   "metadata": {},
   "outputs": [],
   "source": [
    "PredictedPriceRF = RF_Model.predict(DataToPredict)\n",
    "print(\"Цена RandomForest:\", PredictedPriceRF)\n",
    "PredictedPriceSeq = Seq_Model.predict(DataToPredict, None, 0)\n",
    "print(\"Цена Sequential:\", PredictedPriceSeq)"
   ]
  },
  {
   "cell_type": "markdown",
   "id": "603fbf41-9dfd-4e3c-aaed-f037a80961c1",
   "metadata": {},
   "source": [
    "<H1>Создание Моделей Классификации. Предсказание Типа Недвижимости (Новостройка, Вторичка).</H1>"
   ]
  },
  {
   "cell_type": "markdown",
   "id": "9c63de04-2995-4e85-bf6b-24b3fc8f28f1",
   "metadata": {},
   "source": [
    "<H2>Разделение Данных На Обучающую И Тестовую Выборки.</H2>"
   ]
  },
  {
   "cell_type": "code",
   "execution_count": null,
   "id": "a450a2d6-c144-44b5-b791-fb41ad9c58e2",
   "metadata": {},
   "outputs": [],
   "source": [
    "X_Classifier = Data[[\"Price\", \"Metro Station\", \"Minutes To Metro\", \"Region\", \"Number Of Rooms\", \n",
    "                     \"Area\", \"Living Area\", \"Kitchen Area\", \"Floor\", \"Number Of Floors\", \"Renovation\"]]\n",
    "Y_Classifier = Data[\"Apartment Type\"]\n",
    "X_Classifier_Train, X_Classifier_Test, Y_Classifier_Train, Y_Classifier_Test = sklearn.model_selection.train_test_split(X_Classifier, Y_Classifier)"
   ]
  },
  {
   "cell_type": "markdown",
   "id": "f4d32860-712b-47df-83c0-3754eb43aa94",
   "metadata": {},
   "source": [
    "<H2>Обучение Модели Классификации RandomForestClassifier Из Библиотеки Sklearn.Ensemble. Точность Модели.</H2>"
   ]
  },
  {
   "cell_type": "code",
   "execution_count": null,
   "id": "cc7e62c9-8ea9-456c-881e-1d1359c6f95b",
   "metadata": {},
   "outputs": [],
   "source": [
    "RF_Classifier = sklearn.ensemble.RandomForestClassifier(1000)\n",
    "RF_Classifier.fit(X_Classifier_Train, Y_Classifier_Train)\n",
    "Y_RF_Classifier_Pred = RF_Classifier.predict(X_Classifier_Test)\n",
    "RF_Classifier_Accuracy = sklearn.metrics.accuracy_score(Y_Classifier_Test, Y_RF_Classifier_Pred)\n",
    "print(\"RF Classifier Accuracy:\", RF_Classifier_Accuracy)"
   ]
  },
  {
   "cell_type": "markdown",
   "id": "a36e89f7-a889-4b73-a5a9-bbfccb86aea7",
   "metadata": {},
   "source": [
    "<H2>Создание Модели Классификации Sequential Из Библиотеки Tensorflow Keras. Активационная Функция Sigmoid.</H2>"
   ]
  },
  {
   "cell_type": "code",
   "execution_count": null,
   "id": "caae7406-973f-4463-9d9f-afe1ddd2d748",
   "metadata": {},
   "outputs": [],
   "source": [
    "Seq_Classifier = keras.Sequential([\n",
    "    keras.layers.Input([11]),\n",
    "    keras.layers.BatchNormalization(),\n",
    "    keras.layers.Dense(512),\n",
    "    keras.layers.ReLU(),\n",
    "    keras.layers.Dense(256),\n",
    "    keras.layers.ReLU(),\n",
    "    keras.layers.Dense(128),\n",
    "    keras.layers.ReLU(),\n",
    "    keras.layers.Dense(64),\n",
    "    keras.layers.ReLU(),\n",
    "    keras.layers.Dense(32),\n",
    "    keras.layers.ReLU(),\n",
    "    keras.layers.Dense(1, activation=\"sigmoid\")\n",
    "])"
   ]
  },
  {
   "cell_type": "markdown",
   "id": "6fcb88fe-e5f8-4165-9e76-dbfc8c090687",
   "metadata": {},
   "source": [
    "<H2>Обучение Модели.</H2>"
   ]
  },
  {
   "cell_type": "code",
   "execution_count": null,
   "id": "3ff5d9c8-aad0-4773-95dc-662227bc4f9e",
   "metadata": {},
   "outputs": [],
   "source": [
    "Seq_Classifier.compile(keras.optimizers.Adam(), keras.losses.binary_crossentropy, None, [keras.metrics.Accuracy])\n",
    "Seq_Classifier.fit(X_Classifier_Train, Y_Classifier_Train, None, 50, 0)"
   ]
  },
  {
   "cell_type": "markdown",
   "id": "6795c0c6-0844-4b67-a540-bda9346934d8",
   "metadata": {},
   "source": [
    "<H2>Точность Модели.</H2>"
   ]
  },
  {
   "cell_type": "code",
   "execution_count": null,
   "id": "250996a8-da46-4bba-94ee-045f7b8854a1",
   "metadata": {},
   "outputs": [],
   "source": [
    "Y_Seq_Classifier_Pred = Seq_Classifier.predict(X_Classifier_Test, None, 0)\n",
    "Y_Seq_Classifier_Pred = pd.DataFrame(Y_Seq_Classifier_Pred)\n",
    "Y_Seq_Classifier_Pred[(Y_Seq_Classifier_Pred.iloc[:, 0] < 0.5)] = 0\n",
    "Y_Seq_Classifier_Pred[(Y_Seq_Classifier_Pred.iloc[:, 0] >= 0.5)] = 1\n",
    "Seq_Classifier_Accuracy = sklearn.metrics.accuracy_score(Y_Classifier_Test, Y_Seq_Classifier_Pred)\n",
    "print(\"Sequential Classifier Accuracy:\", Seq_Classifier_Accuracy)"
   ]
  },
  {
   "cell_type": "markdown",
   "id": "dca7cb0a-8779-471e-9b54-f8b0cf9855f4",
   "metadata": {},
   "source": [
    "<H2>Кодирование Целевого Столбца Apartment Type Методом OneHot. Разделение Данных На Обучающую И Тестовую Выборки.</H2>"
   ]
  },
  {
   "cell_type": "code",
   "execution_count": null,
   "id": "4e2e78ea-0fd4-4644-9fdd-da1b1901f788",
   "metadata": {},
   "outputs": [],
   "source": [
    "HotEncoder = sklearn.preprocessing.OneHotEncoder(sparse_output=False)\n",
    "X_Classifier_Hot = Data[[\"Price\", \"Metro Station\", \"Minutes To Metro\", \"Region\", \"Number Of Rooms\", \n",
    "                     \"Area\", \"Living Area\", \"Kitchen Area\", \"Floor\", \"Number Of Floors\", \"Renovation\"]]\n",
    "Y_Classifier_Hot = HotEncoder.fit_transform(Data[[\"Apartment Type\"]])\n",
    "Y_Classifier_Hot = pd.DataFrame(Y_Classifier, columns = HotEncoder.get_feature_names_out([\"Apartment Type\"]))\n",
    "X_Classifier_Train_Hot, X_Classifier_Test_Hot, Y_Classifier_Train_Hot, Y_Classifier_Test_Hot = sklearn.model_selection.train_test_split(X_Classifier_Hot, Y_Classifier_Hot)"
   ]
  },
  {
   "cell_type": "markdown",
   "id": "e97c262e-c0ef-4660-adfa-0275bd2475ae",
   "metadata": {},
   "source": [
    "<H2>Создание Модели Классификации Sequential Из Библиотеки Tensorflow Keras. Активационная Функция Softmax.</H2>"
   ]
  },
  {
   "cell_type": "code",
   "execution_count": null,
   "id": "6f07b1ee-fe3d-40fc-be02-a54d27146f01",
   "metadata": {},
   "outputs": [],
   "source": [
    "Seq_MultiClassifier = keras.Sequential([\n",
    "    keras.layers.Input([11]),\n",
    "    keras.layers.BatchNormalization(),\n",
    "    keras.layers.Dense(512),\n",
    "    keras.layers.ReLU(),\n",
    "    keras.layers.Dense(256),\n",
    "    keras.layers.ReLU(),\n",
    "    keras.layers.Dense(128),\n",
    "    keras.layers.ReLU(),\n",
    "    keras.layers.Dense(64),\n",
    "    keras.layers.ReLU(),\n",
    "    keras.layers.Dense(32),\n",
    "    keras.layers.ReLU(),\n",
    "    keras.layers.Dense(2, activation=\"softmax\")\n",
    "])"
   ]
  },
  {
   "cell_type": "markdown",
   "id": "f1b4f18e-0fb5-424b-a769-4d321c6d8516",
   "metadata": {},
   "source": [
    "<H2>Обучение Модели.</H2>"
   ]
  },
  {
   "cell_type": "code",
   "execution_count": null,
   "id": "64f93cd4-8195-4195-bfe1-25e2cb3ab120",
   "metadata": {},
   "outputs": [],
   "source": [
    "Seq_MultiClassifier.compile(keras.optimizers.Adam(), keras.losses.categorical_crossentropy, None, [keras.metrics.Accuracy])\n",
    "Seq_MultiClassifier.fit(X_Classifier_Train, Y_Classifier_Train, None, 50, 1)"
   ]
  },
  {
   "cell_type": "code",
   "execution_count": null,
   "id": "37a5a01b-104c-4e5d-8cd0-4851f43137f0",
   "metadata": {},
   "outputs": [],
   "source": [
    "def CompareColumns(Row):\n",
    "    Row = pd.Series(Row, index=Row.index)\n",
    "    MaxValue = Row.max()\n",
    "    Row[(Row != MaxValue)] = 0\n",
    "    Row[(Row == MaxValue)] = 1\n",
    "    return Row"
   ]
  },
  {
   "cell_type": "markdown",
   "id": "f3d88e70-161d-4980-b2c2-4998e3a93d1c",
   "metadata": {},
   "source": [
    "<H2>Точность Модели.</H2>"
   ]
  },
  {
   "cell_type": "code",
   "execution_count": null,
   "id": "2ef0e00b-877b-44ba-bbe9-4321eb957b6d",
   "metadata": {},
   "outputs": [],
   "source": [
    "Y_Seq_MultiClassifier_Pred = Seq_MultiClassifier.predict(X_Classifier_Test, None, 0)\n",
    "Y_Seq_MultiClassifier_Pred = pd.DataFrame(Y_Seq_MultiClassifier_Pred)\n",
    "Y_Seq_MultiClassifier_Pred.columns = Y_Classifier_Hot.columns\n",
    "Y_Seq_MultiClassifier_Pred = Y_Seq_MultiClassifier_Pred.apply(lambda Row: CompareColumns(Row), axis=1)\n",
    "Y_Seq_MultiClassifier_Pred = pd.DataFrame(Y_Seq_MultiClassifier_Pred)\n",
    "Y_Seq_MultiClassifier_Accuracy = sklearn.metrics.accuracy_score(Y_Classifier_Test_Hot, Seq_Y_MultiClassifier_Pred)\n",
    "print(\"Sequential MultiClassifier Accuracy:\", Y_Seq_MultiClassifier_Accuracy)"
   ]
  }
 ],
 "metadata": {
  "kernelspec": {
   "display_name": "Python 3 (ipykernel)",
   "language": "python",
   "name": "python3"
  },
  "language_info": {
   "codemirror_mode": {
    "name": "ipython",
    "version": 3
   },
   "file_extension": ".py",
   "mimetype": "text/x-python",
   "name": "python",
   "nbconvert_exporter": "python",
   "pygments_lexer": "ipython3",
   "version": "3.12.3"
  }
 },
 "nbformat": 4,
 "nbformat_minor": 5
}
